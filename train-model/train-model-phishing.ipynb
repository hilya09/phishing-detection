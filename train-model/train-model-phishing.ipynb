{
 "cells": [
  {
   "cell_type": "markdown",
   "id": "41a3d534",
   "metadata": {},
   "source": [
    "# Import Library (Modules dan Packages)"
   ]
  },
  {
   "cell_type": "code",
   "execution_count": 31,
   "id": "73e6410a",
   "metadata": {},
   "outputs": [],
   "source": [
    "import pandas as pd\n",
    "import numpy as np\n",
    "import matplotlib.pyplot as plt\n",
    "import seaborn as sns  \n",
    "import time \n",
    "\n",
    "from sklearn.metrics import classification_report\n",
    "from sklearn.metrics import confusion_matrix\n",
    "from nltk.stem.snowball import SnowballStemmer\n",
    "\n",
    "import joblib\n",
    "import pickle"
   ]
  },
  {
   "cell_type": "code",
   "execution_count": 32,
   "id": "1b92a0b3",
   "metadata": {},
   "outputs": [],
   "source": [
    "data = pd.read_csv(\"urldataset-baru+200-16-features.csv\")"
   ]
  },
  {
   "cell_type": "markdown",
   "id": "ba0458c6",
   "metadata": {},
   "source": [
    "# Import Dataset"
   ]
  },
  {
   "cell_type": "markdown",
   "id": "57184e1f",
   "metadata": {},
   "source": [
    "# Exploratory Data Analysis (EDA)"
   ]
  },
  {
   "cell_type": "code",
   "execution_count": 33,
   "id": "1960c86b",
   "metadata": {},
   "outputs": [
    {
     "data": {
      "text/html": [
       "<div>\n",
       "<style scoped>\n",
       "    .dataframe tbody tr th:only-of-type {\n",
       "        vertical-align: middle;\n",
       "    }\n",
       "\n",
       "    .dataframe tbody tr th {\n",
       "        vertical-align: top;\n",
       "    }\n",
       "\n",
       "    .dataframe thead th {\n",
       "        text-align: right;\n",
       "    }\n",
       "</style>\n",
       "<table border=\"1\" class=\"dataframe\">\n",
       "  <thead>\n",
       "    <tr style=\"text-align: right;\">\n",
       "      <th></th>\n",
       "      <th>URL</th>\n",
       "      <th>Label</th>\n",
       "      <th>https_scheme</th>\n",
       "      <th>http_scheme</th>\n",
       "      <th>domain_length</th>\n",
       "      <th>len_non_alphabet_domain</th>\n",
       "      <th>count_question_mark_domain</th>\n",
       "      <th>count_ampersand_domain</th>\n",
       "      <th>count_asterisk_domain</th>\n",
       "      <th>len_subdomain</th>\n",
       "      <th>len_non_alphabet_subdomain</th>\n",
       "      <th>len_special_char_subdomain</th>\n",
       "      <th>count_dot_subdomain</th>\n",
       "      <th>count_dash_subdomain</th>\n",
       "      <th>ratio_url_path</th>\n",
       "      <th>count_subdomain</th>\n",
       "      <th>hostname_length</th>\n",
       "      <th>path_len</th>\n",
       "    </tr>\n",
       "  </thead>\n",
       "  <tbody>\n",
       "    <tr>\n",
       "      <th>0</th>\n",
       "      <td>https://pogodasub.com/2Ge6I0rd/4p0OksK6-inteli...</td>\n",
       "      <td>0</td>\n",
       "      <td>0</td>\n",
       "      <td>0</td>\n",
       "      <td>0</td>\n",
       "      <td>0</td>\n",
       "      <td>0</td>\n",
       "      <td>0</td>\n",
       "      <td>0</td>\n",
       "      <td>0</td>\n",
       "      <td>0</td>\n",
       "      <td>0</td>\n",
       "      <td>0</td>\n",
       "      <td>0</td>\n",
       "      <td>0</td>\n",
       "      <td>0.0</td>\n",
       "      <td>13</td>\n",
       "      <td>37</td>\n",
       "    </tr>\n",
       "    <tr>\n",
       "      <th>1</th>\n",
       "      <td>https://pogodasub.com/2Ge6I0rd/Ly6I98Se-ipko/l...</td>\n",
       "      <td>0</td>\n",
       "      <td>0</td>\n",
       "      <td>0</td>\n",
       "      <td>0</td>\n",
       "      <td>0</td>\n",
       "      <td>0</td>\n",
       "      <td>0</td>\n",
       "      <td>0</td>\n",
       "      <td>0</td>\n",
       "      <td>0</td>\n",
       "      <td>0</td>\n",
       "      <td>0</td>\n",
       "      <td>0</td>\n",
       "      <td>0</td>\n",
       "      <td>0.0</td>\n",
       "      <td>13</td>\n",
       "      <td>33</td>\n",
       "    </tr>\n",
       "    <tr>\n",
       "      <th>2</th>\n",
       "      <td>https://pogodasub.com/2Ge6I0rd/hz6hZnA</td>\n",
       "      <td>0</td>\n",
       "      <td>0</td>\n",
       "      <td>0</td>\n",
       "      <td>0</td>\n",
       "      <td>0</td>\n",
       "      <td>0</td>\n",
       "      <td>0</td>\n",
       "      <td>0</td>\n",
       "      <td>0</td>\n",
       "      <td>0</td>\n",
       "      <td>0</td>\n",
       "      <td>0</td>\n",
       "      <td>0</td>\n",
       "      <td>0</td>\n",
       "      <td>0.0</td>\n",
       "      <td>13</td>\n",
       "      <td>17</td>\n",
       "    </tr>\n",
       "    <tr>\n",
       "      <th>3</th>\n",
       "      <td>https://resicorphome.com/brian/srr/austin/</td>\n",
       "      <td>0</td>\n",
       "      <td>0</td>\n",
       "      <td>0</td>\n",
       "      <td>0</td>\n",
       "      <td>0</td>\n",
       "      <td>0</td>\n",
       "      <td>0</td>\n",
       "      <td>0</td>\n",
       "      <td>0</td>\n",
       "      <td>0</td>\n",
       "      <td>0</td>\n",
       "      <td>0</td>\n",
       "      <td>0</td>\n",
       "      <td>0</td>\n",
       "      <td>0.0</td>\n",
       "      <td>16</td>\n",
       "      <td>18</td>\n",
       "    </tr>\n",
       "    <tr>\n",
       "      <th>4</th>\n",
       "      <td>https://kurier24-oplata.com/PzVxLK7l/WdJslUDi-...</td>\n",
       "      <td>0</td>\n",
       "      <td>0</td>\n",
       "      <td>0</td>\n",
       "      <td>0</td>\n",
       "      <td>1</td>\n",
       "      <td>0</td>\n",
       "      <td>0</td>\n",
       "      <td>0</td>\n",
       "      <td>0</td>\n",
       "      <td>0</td>\n",
       "      <td>0</td>\n",
       "      <td>0</td>\n",
       "      <td>0</td>\n",
       "      <td>0</td>\n",
       "      <td>0.0</td>\n",
       "      <td>19</td>\n",
       "      <td>37</td>\n",
       "    </tr>\n",
       "    <tr>\n",
       "      <th>...</th>\n",
       "      <td>...</td>\n",
       "      <td>...</td>\n",
       "      <td>...</td>\n",
       "      <td>...</td>\n",
       "      <td>...</td>\n",
       "      <td>...</td>\n",
       "      <td>...</td>\n",
       "      <td>...</td>\n",
       "      <td>...</td>\n",
       "      <td>...</td>\n",
       "      <td>...</td>\n",
       "      <td>...</td>\n",
       "      <td>...</td>\n",
       "      <td>...</td>\n",
       "      <td>...</td>\n",
       "      <td>...</td>\n",
       "      <td>...</td>\n",
       "      <td>...</td>\n",
       "    </tr>\n",
       "    <tr>\n",
       "      <th>259843</th>\n",
       "      <td>https://email.mail1.onesignal.os.tc/c/eJwUz7Fu...</td>\n",
       "      <td>1</td>\n",
       "      <td>0</td>\n",
       "      <td>0</td>\n",
       "      <td>1</td>\n",
       "      <td>1</td>\n",
       "      <td>0</td>\n",
       "      <td>0</td>\n",
       "      <td>0</td>\n",
       "      <td>1</td>\n",
       "      <td>1</td>\n",
       "      <td>1</td>\n",
       "      <td>1</td>\n",
       "      <td>0</td>\n",
       "      <td>0</td>\n",
       "      <td>1.0</td>\n",
       "      <td>27</td>\n",
       "      <td>351</td>\n",
       "    </tr>\n",
       "    <tr>\n",
       "      <th>259844</th>\n",
       "      <td>https://email.m.teachable.com/c/eJw0zzFuxCAQRu...</td>\n",
       "      <td>1</td>\n",
       "      <td>0</td>\n",
       "      <td>0</td>\n",
       "      <td>1</td>\n",
       "      <td>1</td>\n",
       "      <td>0</td>\n",
       "      <td>0</td>\n",
       "      <td>0</td>\n",
       "      <td>0</td>\n",
       "      <td>0</td>\n",
       "      <td>1</td>\n",
       "      <td>1</td>\n",
       "      <td>0</td>\n",
       "      <td>0</td>\n",
       "      <td>0.5</td>\n",
       "      <td>21</td>\n",
       "      <td>274</td>\n",
       "    </tr>\n",
       "    <tr>\n",
       "      <th>259845</th>\n",
       "      <td>https://www.gvomail.com/redir.php?mail.pial=27...</td>\n",
       "      <td>1</td>\n",
       "      <td>0</td>\n",
       "      <td>0</td>\n",
       "      <td>0</td>\n",
       "      <td>0</td>\n",
       "      <td>0</td>\n",
       "      <td>0</td>\n",
       "      <td>0</td>\n",
       "      <td>0</td>\n",
       "      <td>0</td>\n",
       "      <td>0</td>\n",
       "      <td>0</td>\n",
       "      <td>0</td>\n",
       "      <td>1</td>\n",
       "      <td>0.0</td>\n",
       "      <td>15</td>\n",
       "      <td>10</td>\n",
       "    </tr>\n",
       "    <tr>\n",
       "      <th>259846</th>\n",
       "      <td>https://apac01.safelinks.protection.outlook.co...</td>\n",
       "      <td>1</td>\n",
       "      <td>0</td>\n",
       "      <td>0</td>\n",
       "      <td>1</td>\n",
       "      <td>1</td>\n",
       "      <td>0</td>\n",
       "      <td>0</td>\n",
       "      <td>0</td>\n",
       "      <td>1</td>\n",
       "      <td>1</td>\n",
       "      <td>1</td>\n",
       "      <td>1</td>\n",
       "      <td>0</td>\n",
       "      <td>1</td>\n",
       "      <td>1.0</td>\n",
       "      <td>39</td>\n",
       "      <td>1</td>\n",
       "    </tr>\n",
       "    <tr>\n",
       "      <th>259847</th>\n",
       "      <td>https://www.account.amazon.vqnwvm.shop/ap/sign...</td>\n",
       "      <td>1</td>\n",
       "      <td>0</td>\n",
       "      <td>0</td>\n",
       "      <td>1</td>\n",
       "      <td>1</td>\n",
       "      <td>0</td>\n",
       "      <td>0</td>\n",
       "      <td>0</td>\n",
       "      <td>0</td>\n",
       "      <td>0</td>\n",
       "      <td>1</td>\n",
       "      <td>1</td>\n",
       "      <td>0</td>\n",
       "      <td>1</td>\n",
       "      <td>0.5</td>\n",
       "      <td>30</td>\n",
       "      <td>10</td>\n",
       "    </tr>\n",
       "  </tbody>\n",
       "</table>\n",
       "<p>259848 rows × 18 columns</p>\n",
       "</div>"
      ],
      "text/plain": [
       "                                                      URL  Label  \\\n",
       "0       https://pogodasub.com/2Ge6I0rd/4p0OksK6-inteli...      0   \n",
       "1       https://pogodasub.com/2Ge6I0rd/Ly6I98Se-ipko/l...      0   \n",
       "2                  https://pogodasub.com/2Ge6I0rd/hz6hZnA      0   \n",
       "3              https://resicorphome.com/brian/srr/austin/      0   \n",
       "4       https://kurier24-oplata.com/PzVxLK7l/WdJslUDi-...      0   \n",
       "...                                                   ...    ...   \n",
       "259843  https://email.mail1.onesignal.os.tc/c/eJwUz7Fu...      1   \n",
       "259844  https://email.m.teachable.com/c/eJw0zzFuxCAQRu...      1   \n",
       "259845  https://www.gvomail.com/redir.php?mail.pial=27...      1   \n",
       "259846  https://apac01.safelinks.protection.outlook.co...      1   \n",
       "259847  https://www.account.amazon.vqnwvm.shop/ap/sign...      1   \n",
       "\n",
       "        https_scheme  http_scheme  domain_length  len_non_alphabet_domain  \\\n",
       "0                  0            0              0                        0   \n",
       "1                  0            0              0                        0   \n",
       "2                  0            0              0                        0   \n",
       "3                  0            0              0                        0   \n",
       "4                  0            0              0                        1   \n",
       "...              ...          ...            ...                      ...   \n",
       "259843             0            0              1                        1   \n",
       "259844             0            0              1                        1   \n",
       "259845             0            0              0                        0   \n",
       "259846             0            0              1                        1   \n",
       "259847             0            0              1                        1   \n",
       "\n",
       "        count_question_mark_domain  count_ampersand_domain  \\\n",
       "0                                0                       0   \n",
       "1                                0                       0   \n",
       "2                                0                       0   \n",
       "3                                0                       0   \n",
       "4                                0                       0   \n",
       "...                            ...                     ...   \n",
       "259843                           0                       0   \n",
       "259844                           0                       0   \n",
       "259845                           0                       0   \n",
       "259846                           0                       0   \n",
       "259847                           0                       0   \n",
       "\n",
       "        count_asterisk_domain  len_subdomain  len_non_alphabet_subdomain  \\\n",
       "0                           0              0                           0   \n",
       "1                           0              0                           0   \n",
       "2                           0              0                           0   \n",
       "3                           0              0                           0   \n",
       "4                           0              0                           0   \n",
       "...                       ...            ...                         ...   \n",
       "259843                      0              1                           1   \n",
       "259844                      0              0                           0   \n",
       "259845                      0              0                           0   \n",
       "259846                      0              1                           1   \n",
       "259847                      0              0                           0   \n",
       "\n",
       "        len_special_char_subdomain  count_dot_subdomain  count_dash_subdomain  \\\n",
       "0                                0                    0                     0   \n",
       "1                                0                    0                     0   \n",
       "2                                0                    0                     0   \n",
       "3                                0                    0                     0   \n",
       "4                                0                    0                     0   \n",
       "...                            ...                  ...                   ...   \n",
       "259843                           1                    1                     0   \n",
       "259844                           1                    1                     0   \n",
       "259845                           0                    0                     0   \n",
       "259846                           1                    1                     0   \n",
       "259847                           1                    1                     0   \n",
       "\n",
       "        ratio_url_path  count_subdomain  hostname_length  path_len  \n",
       "0                    0              0.0               13        37  \n",
       "1                    0              0.0               13        33  \n",
       "2                    0              0.0               13        17  \n",
       "3                    0              0.0               16        18  \n",
       "4                    0              0.0               19        37  \n",
       "...                ...              ...              ...       ...  \n",
       "259843               0              1.0               27       351  \n",
       "259844               0              0.5               21       274  \n",
       "259845               1              0.0               15        10  \n",
       "259846               1              1.0               39         1  \n",
       "259847               1              0.5               30        10  \n",
       "\n",
       "[259848 rows x 18 columns]"
      ]
     },
     "execution_count": 33,
     "metadata": {},
     "output_type": "execute_result"
    }
   ],
   "source": [
    "data"
   ]
  },
  {
   "cell_type": "code",
   "execution_count": 34,
   "id": "3f85dcc2",
   "metadata": {},
   "outputs": [
    {
     "data": {
      "text/plain": [
       "array([0, 1], dtype=int64)"
      ]
     },
     "execution_count": 34,
     "metadata": {},
     "output_type": "execute_result"
    }
   ],
   "source": [
    "data['Label'].unique()"
   ]
  },
  {
   "cell_type": "code",
   "execution_count": 35,
   "id": "0ca457c3",
   "metadata": {},
   "outputs": [
    {
     "name": "stdout",
     "output_type": "stream",
     "text": [
      "Total Jumlah url: 259848 data\n",
      "\n",
      "terdiri dari (label):\n",
      "-- [0] Good\t\t: 106522 data url\n",
      "-- [1] Phishing\t\t: 153326 data url\n",
      "\n"
     ]
    }
   ],
   "source": [
    "print('Total Jumlah url:', data.shape[0], 'data\\n')\n",
    "print('terdiri dari (label):')\n",
    "print('-- [0] Good\\t\\t:', data[data.Label == 0].shape[0], 'data url')\n",
    "print('-- [1] Phishing\\t\\t:', data[data.Label == 1].shape[0], 'data url\\n')"
   ]
  },
  {
   "cell_type": "code",
   "execution_count": 36,
   "id": "337ee0cd",
   "metadata": {},
   "outputs": [
    {
     "data": {
      "text/plain": [
       "0"
      ]
     },
     "execution_count": 36,
     "metadata": {},
     "output_type": "execute_result"
    }
   ],
   "source": [
    "data.duplicated().sum()"
   ]
  },
  {
   "cell_type": "code",
   "execution_count": 37,
   "id": "33e4f755",
   "metadata": {},
   "outputs": [
    {
     "data": {
      "text/plain": [
       "URL                           0\n",
       "Label                         0\n",
       "https_scheme                  0\n",
       "http_scheme                   0\n",
       "domain_length                 0\n",
       "len_non_alphabet_domain       0\n",
       "count_question_mark_domain    0\n",
       "count_ampersand_domain        0\n",
       "count_asterisk_domain         0\n",
       "len_subdomain                 0\n",
       "len_non_alphabet_subdomain    0\n",
       "len_special_char_subdomain    0\n",
       "count_dot_subdomain           0\n",
       "count_dash_subdomain          0\n",
       "ratio_url_path                0\n",
       "count_subdomain               0\n",
       "hostname_length               0\n",
       "path_len                      0\n",
       "dtype: int64"
      ]
     },
     "execution_count": 37,
     "metadata": {},
     "output_type": "execute_result"
    }
   ],
   "source": [
    "data.isnull().sum()"
   ]
  },
  {
   "cell_type": "code",
   "execution_count": 38,
   "id": "3896f13d",
   "metadata": {},
   "outputs": [
    {
     "data": {
      "image/png": "[encoded data removed]",
      "text/plain": [
       "<Figure size 640x480 with 1 Axes>"
      ]
     },
     "metadata": {},
     "output_type": "display_data"
    }
   ],
   "source": [
    "# Konversi data menjadi DataFrame\n",
    "df = pd.DataFrame(data, columns=['Label'])\n",
    "\n",
    "# Hitung jumlah masing-masing label\n",
    "label_count = df['Label'].value_counts()\n",
    "\n",
    "# Buat pie chart menggunakan Seaborn\n",
    "plt.title('Komposisi Jumlah Dataset Phishing Site URLs')\n",
    "plt.pie(label_count, labels=label_count.index, autopct='%1.1f%%')\n",
    "\n",
    "# Tampilkan pie chart\n",
    "plt.axis('equal')\n",
    "plt.show()"
   ]
  },
  {
   "cell_type": "markdown",
   "id": "f455b98c",
   "metadata": {},
   "source": [
    "# Feature Engineering"
   ]
  },
  {
   "cell_type": "code",
   "execution_count": 15,
   "id": "88824afb",
   "metadata": {},
   "outputs": [],
   "source": [
    "# importing required packages for this section\n",
    "from urllib.parse import urlparse\n",
    "import re"
   ]
  },
  {
   "cell_type": "code",
   "execution_count": 16,
   "id": "3ca4ad99",
   "metadata": {},
   "outputs": [],
   "source": [
    "# https in scheme\n",
    "def httpsURL(url):\n",
    "  # Parse the URL to extract the scheme/protocol\n",
    "  parsed_url = urlparse(url)\n",
    "  scheme = parsed_url.scheme\n",
    "\n",
    "  # Check if the scheme/protocol is \"https\"\n",
    "  if scheme == \"https\":\n",
    "    return 0  # Legitimate\n",
    "  else:\n",
    "    return 1  # Phishing"
   ]
  },
  {
   "cell_type": "code",
   "execution_count": 17,
   "id": "7a188d04",
   "metadata": {},
   "outputs": [],
   "source": [
    "# http in scheme\n",
    "def httpURL(url):\n",
    "  # Parse the URL to extract the scheme/protocol\n",
    "  parsed_url = urlparse(url)\n",
    "  scheme = parsed_url.scheme\n",
    "\n",
    "  # Check if the scheme/protocol is \"https\"\n",
    "  if scheme == \"http\":\n",
    "    return 1 # Phishing\n",
    "  else:\n",
    "    return 0  # Legitimate"
   ]
  },
  {
   "cell_type": "code",
   "execution_count": 18,
   "id": "7e8e64bc",
   "metadata": {},
   "outputs": [],
   "source": [
    "# Domain of the URL (Domain)\n",
    "def getDomain(url):\n",
    "  domain = urlparse(url).netloc\n",
    "  if re.match(r\"^www.\",domain):\n",
    "    domain = domain.replace(\"www.\",\"\")\n",
    "  return domain"
   ]
  },
  {
   "cell_type": "code",
   "execution_count": 19,
   "id": "f1f44cf9",
   "metadata": {},
   "outputs": [],
   "source": [
    "# Fungsi untuk memeriksa jumlah ? dalam domain URL\n",
    "def count_question_mark_domain(url):\n",
    "    domain = getDomain(url)\n",
    "    count_question_mark_count = domain.count('?')\n",
    "    return 0 if count_question_mark_count == 0 else 1"
   ]
  },
  {
   "cell_type": "code",
   "execution_count": 20,
   "id": "f8fd07dc",
   "metadata": {},
   "outputs": [],
   "source": [
    "# Fungsi untuk memeriksa jumlah & dalam domain URL\n",
    "def count_ampersand_domain(url):\n",
    "    domain = getDomain(url)\n",
    "    count_ampersand_count = domain.count('&')\n",
    "    return 0 if count_ampersand_count == 0 else 1"
   ]
  },
  {
   "cell_type": "code",
   "execution_count": 21,
   "id": "932de17f",
   "metadata": {},
   "outputs": [],
   "source": [
    "# Fungsi untuk memeriksa jumlah * dalam domain URL\n",
    "def count_asterisk_domain(url):\n",
    "    domain = getDomain(url)\n",
    "    count_asterisk_count = domain.count('*')\n",
    "    return 0 if count_asterisk_count == 0 else 1"
   ]
  },
  {
   "cell_type": "code",
   "execution_count": 22,
   "id": "4e55b9b9",
   "metadata": {},
   "outputs": [],
   "source": [
    "# Fungsi untuk menghitung rasio panjang URL terhadap panjang path\n",
    "def calculate_url_path_ratio(url):\n",
    "    parsed_url = urlparse(url)\n",
    "    path = parsed_url.path\n",
    "    if len(path) == 0:\n",
    "        return 0\n",
    "    else:\n",
    "        ratio = len(url) / len(path)\n",
    "        if ratio < 3:\n",
    "            return 0\n",
    "        else:\n",
    "            return 1"
   ]
  },
  {
   "cell_type": "code",
   "execution_count": 23,
   "id": "18be68a9",
   "metadata": {},
   "outputs": [],
   "source": [
    "# Fungsi untuk menghitung panjang path\n",
    "def length_path(url):\n",
    "    parsed_url = urlparse(url)\n",
    "    path = parsed_url.path\n",
    "    return len(path)"
   ]
  },
  {
   "cell_type": "markdown",
   "id": "2d9408b8",
   "metadata": {},
   "source": [
    "# Menentukan Features dan Target"
   ]
  },
  {
   "cell_type": "code",
   "execution_count": 39,
   "id": "5aea46f7",
   "metadata": {},
   "outputs": [],
   "source": [
    "# Predictor Variables\n",
    "X = data[['https_scheme', 'http_scheme', 'count_question_mark_domain','count_ampersand_domain','count_asterisk_domain', \n",
    "          'ratio_url_path', 'path_len']]\n",
    "\n",
    "#Target Variable\n",
    "y = data['Label']"
   ]
  },
  {
   "cell_type": "markdown",
   "id": "64000c70",
   "metadata": {},
   "source": [
    "# Splitting Dataset - Train Test Split"
   ]
  },
  {
   "cell_type": "code",
   "execution_count": 40,
   "id": "e882b3af",
   "metadata": {},
   "outputs": [],
   "source": [
    "from sklearn.model_selection import train_test_split\n",
    "X_train, X_test, y_train, y_test = train_test_split(X, y, stratify=y, test_size=0.2,shuffle=True, random_state=5)"
   ]
  },
  {
   "cell_type": "markdown",
   "id": "271425d5",
   "metadata": {},
   "source": [
    "# Modelling"
   ]
  },
  {
   "cell_type": "markdown",
   "id": "17a659e2",
   "metadata": {},
   "source": [
    "## Logistic Regression"
   ]
  },
  {
   "cell_type": "code",
   "execution_count": 41,
   "id": "c0c28a64",
   "metadata": {},
   "outputs": [
    {
     "data": {
      "text/html": [
       "<style>#sk-container-id-1 {color: black;background-color: white;}#sk-container-id-1 pre{padding: 0;}#sk-container-id-1 div.sk-toggleable {background-color: white;}#sk-container-id-1 label.sk-toggleable__label {cursor: pointer;display: block;width: 100%;margin-bottom: 0;padding: 0.3em;box-sizing: border-box;text-align: center;}#sk-container-id-1 label.sk-toggleable__label-arrow:before {content: \"▸\";float: left;margin-right: 0.25em;color: #696969;}#sk-container-id-1 label.sk-toggleable__label-arrow:hover:before {color: black;}#sk-container-id-1 div.sk-estimator:hover label.sk-toggleable__label-arrow:before {color: black;}#sk-container-id-1 div.sk-toggleable__content {max-height: 0;max-width: 0;overflow: hidden;text-align: left;background-color: #f0f8ff;}#sk-container-id-1 div.sk-toggleable__content pre {margin: 0.2em;color: black;border-radius: 0.25em;background-color: #f0f8ff;}#sk-container-id-1 input.sk-toggleable__control:checked~div.sk-toggleable__content {max-height: 200px;max-width: 100%;overflow: auto;}#sk-container-id-1 input.sk-toggleable__control:checked~label.sk-toggleable__label-arrow:before {content: \"▾\";}#sk-container-id-1 div.sk-estimator input.sk-toggleable__control:checked~label.sk-toggleable__label {background-color: #d4ebff;}#sk-container-id-1 div.sk-label input.sk-toggleable__control:checked~label.sk-toggleable__label {background-color: #d4ebff;}#sk-container-id-1 input.sk-hidden--visually {border: 0;clip: rect(1px 1px 1px 1px);clip: rect(1px, 1px, 1px, 1px);height: 1px;margin: -1px;overflow: hidden;padding: 0;position: absolute;width: 1px;}#sk-container-id-1 div.sk-estimator {font-family: monospace;background-color: #f0f8ff;border: 1px dotted black;border-radius: 0.25em;box-sizing: border-box;margin-bottom: 0.5em;}#sk-container-id-1 div.sk-estimator:hover {background-color: #d4ebff;}#sk-container-id-1 div.sk-parallel-item::after {content: \"\";width: 100%;border-bottom: 1px solid gray;flex-grow: 1;}#sk-container-id-1 div.sk-label:hover label.sk-toggleable__label {background-color: #d4ebff;}#sk-container-id-1 div.sk-serial::before {content: \"\";position: absolute;border-left: 1px solid gray;box-sizing: border-box;top: 0;bottom: 0;left: 50%;z-index: 0;}#sk-container-id-1 div.sk-serial {display: flex;flex-direction: column;align-items: center;background-color: white;padding-right: 0.2em;padding-left: 0.2em;position: relative;}#sk-container-id-1 div.sk-item {position: relative;z-index: 1;}#sk-container-id-1 div.sk-parallel {display: flex;align-items: stretch;justify-content: center;background-color: white;position: relative;}#sk-container-id-1 div.sk-item::before, #sk-container-id-1 div.sk-parallel-item::before {content: \"\";position: absolute;border-left: 1px solid gray;box-sizing: border-box;top: 0;bottom: 0;left: 50%;z-index: -1;}#sk-container-id-1 div.sk-parallel-item {display: flex;flex-direction: column;z-index: 1;position: relative;background-color: white;}#sk-container-id-1 div.sk-parallel-item:first-child::after {align-self: flex-end;width: 50%;}#sk-container-id-1 div.sk-parallel-item:last-child::after {align-self: flex-start;width: 50%;}#sk-container-id-1 div.sk-parallel-item:only-child::after {width: 0;}#sk-container-id-1 div.sk-dashed-wrapped {border: 1px dashed gray;margin: 0 0.4em 0.5em 0.4em;box-sizing: border-box;padding-bottom: 0.4em;background-color: white;}#sk-container-id-1 div.sk-label label {font-family: monospace;font-weight: bold;display: inline-block;line-height: 1.2em;}#sk-container-id-1 div.sk-label-container {text-align: center;}#sk-container-id-1 div.sk-container {/* jupyter's `normalize.less` sets `[hidden] { display: none; }` but bootstrap.min.css set `[hidden] { display: none !important; }` so we also need the `!important` here to be able to override the default hidden behavior on the sphinx rendered scikit-learn.org. See: https://github.com/scikit-learn/scikit-learn/issues/21755 */display: inline-block !important;position: relative;}#sk-container-id-1 div.sk-text-repr-fallback {display: none;}</style><div id=\"sk-container-id-1\" class=\"sk-top-container\"><div class=\"sk-text-repr-fallback\"><pre>LogisticRegression()</pre><b>In a Jupyter environment, please rerun this cell to show the HTML representation or trust the notebook. <br />On GitHub, the HTML representation is unable to render, please try loading this page with nbviewer.org.</b></div><div class=\"sk-container\" hidden><div class=\"sk-item\"><div class=\"sk-estimator sk-toggleable\"><input class=\"sk-toggleable__control sk-hidden--visually\" id=\"sk-estimator-id-1\" type=\"checkbox\" checked><label for=\"sk-estimator-id-1\" class=\"sk-toggleable__label sk-toggleable__label-arrow\">LogisticRegression</label><div class=\"sk-toggleable__content\"><pre>LogisticRegression()</pre></div></div></div></div></div>"
      ],
      "text/plain": [
       "LogisticRegression()"
      ]
     },
     "execution_count": 41,
     "metadata": {},
     "output_type": "execute_result"
    }
   ],
   "source": [
    "from sklearn import metrics\n",
    "from sklearn.linear_model import LogisticRegression\n",
    "from sklearn.metrics import accuracy_score, precision_score, recall_score, f1_score\n",
    "\n",
    "logreg = LogisticRegression()\n",
    "logreg.fit(X_train,y_train)"
   ]
  },
  {
   "cell_type": "markdown",
   "id": "cbd3a5e8",
   "metadata": {},
   "source": [
    "# Evaluation"
   ]
  },
  {
   "cell_type": "markdown",
   "id": "015c00de",
   "metadata": {},
   "source": [
    "## Classification Report"
   ]
  },
  {
   "cell_type": "code",
   "execution_count": 42,
   "id": "ebdc7c55",
   "metadata": {},
   "outputs": [
    {
     "name": "stdout",
     "output_type": "stream",
     "text": [
      "              precision    recall  f1-score   support\n",
      "\n",
      "     Class 0       0.86      0.92      0.89     21305\n",
      "     Class 1       0.94      0.89      0.92     30665\n",
      "\n",
      "    accuracy                           0.90     51970\n",
      "   macro avg       0.90      0.91      0.90     51970\n",
      "weighted avg       0.91      0.90      0.90     51970\n",
      "\n"
     ]
    }
   ],
   "source": [
    "from sklearn.metrics import classification_report,confusion_matrix, accuracy_score\n",
    "\n",
    "y_pred_logreg = logreg.predict(X_test)\n",
    "print(classification_report(y_test,y_pred_logreg,target_names=['Class 0','Class 1']))"
   ]
  },
  {
   "cell_type": "markdown",
   "id": "33ecc329",
   "metadata": {},
   "source": [
    "## Train Test Evaluation"
   ]
  },
  {
   "cell_type": "code",
   "execution_count": 43,
   "id": "f3ca6a5c",
   "metadata": {},
   "outputs": [
    {
     "name": "stdout",
     "output_type": "stream",
     "text": [
      "accuracy:   0.90\n"
     ]
    }
   ],
   "source": [
    "score = metrics.accuracy_score(y_test, y_pred_logreg)\n",
    "print(\"accuracy:   %0.2f\" % score)"
   ]
  },
  {
   "cell_type": "code",
   "execution_count": 44,
   "id": "dae40403",
   "metadata": {},
   "outputs": [],
   "source": [
    "accuracy_train = logreg.score(X_train, y_train)\n",
    "accuracy_test  = logreg.score(X_test, y_test)"
   ]
  },
  {
   "cell_type": "code",
   "execution_count": 45,
   "id": "e157ec5b",
   "metadata": {},
   "outputs": [
    {
     "name": "stdout",
     "output_type": "stream",
     "text": [
      "Akurasi Model (Train) : 90.16 %\n",
      "Akurasi Model (Test)  : 90.36 %\n"
     ]
    }
   ],
   "source": [
    "print(f\"Akurasi Model (Train) : {np.round(accuracy_train * 100,2)} %\")\n",
    "print(f\"Akurasi Model (Test)  : {np.round(accuracy_test * 100,2)} %\")"
   ]
  },
  {
   "cell_type": "markdown",
   "id": "7395c86d",
   "metadata": {},
   "source": [
    "## K-Fold Cross Validation"
   ]
  },
  {
   "cell_type": "code",
   "execution_count": 46,
   "id": "575825e7",
   "metadata": {},
   "outputs": [
    {
     "name": "stdout",
     "output_type": "stream",
     "text": [
      "Hasil K-Fold Cross Validation:\n",
      "Akurasi: 90.21%\n"
     ]
    }
   ],
   "source": [
    "from sklearn.model_selection import cross_val_score, KFold\n",
    "\n",
    "# Definisikan jumlah fold dan metrik evaluasi\n",
    "k = 5\n",
    "scoring = 'accuracy'  # Misalnya, menggunakan akurasi sebagai metrik evaluasi\n",
    "\n",
    "# Inisialisasi KFold\n",
    "kf = KFold(n_splits=k, shuffle=True, random_state=42)\n",
    "\n",
    "# Lakukan K-Fold Cross Validation\n",
    "scores = cross_val_score(logreg, X, y, cv=kf, scoring=scoring)\n",
    "\n",
    "# Tampilkan hasil evaluasi\n",
    "print(\"Hasil K-Fold Cross Validation:\")\n",
    "print(\"Akurasi: {:.2f}%\".format(scores.mean() * 100))"
   ]
  },
  {
   "cell_type": "markdown",
   "id": "9642a8a8",
   "metadata": {},
   "source": [
    "## Confusion Matrix"
   ]
  },
  {
   "cell_type": "code",
   "execution_count": 47,
   "id": "40379145",
   "metadata": {},
   "outputs": [
    {
     "data": {
      "image/png": "[encoded data removed]",
      "text/plain": [
       "<Figure size 800x600 with 2 Axes>"
      ]
     },
     "metadata": {},
     "output_type": "display_data"
    }
   ],
   "source": [
    "from sklearn.metrics import classification_report,confusion_matrix, accuracy_score\n",
    "import seaborn as sns\n",
    "\n",
    "cm = confusion_matrix(y_test, y_pred_logreg)\n",
    "cm_df = pd.DataFrame(cm,\n",
    "                     index = ['0', '1'],\n",
    "                     columns = ['0','1'])\n",
    "plt.figure(figsize=(8,6))\n",
    "sns.heatmap(cm_df, annot=True,fmt=\"g\")\n",
    "plt.title('Confusion Matrix')\n",
    "plt.ylabel('Actual Values')\n",
    "plt.xlabel('Predicted Values')\n",
    "plt.show()"
   ]
  },
  {
   "cell_type": "markdown",
   "id": "7c92798f",
   "metadata": {},
   "source": [
    "# Save Model Logistic Regression"
   ]
  },
  {
   "cell_type": "code",
   "execution_count": 48,
   "id": "63f7c1e9",
   "metadata": {},
   "outputs": [
    {
     "data": {
      "text/plain": [
       "['model_phishing_lr.model']"
      ]
     },
     "execution_count": 48,
     "metadata": {},
     "output_type": "execute_result"
    }
   ],
   "source": [
    "import joblib\n",
    "joblib.dump((logreg), \"model_phishing_lr.model\")"
   ]
  },
  {
   "cell_type": "markdown",
   "id": "bf4b9316",
   "metadata": {},
   "source": [
    "# Prediction"
   ]
  },
  {
   "cell_type": "code",
   "execution_count": 54,
   "id": "42863337",
   "metadata": {},
   "outputs": [],
   "source": [
    "def main(url):\n",
    "\n",
    "    status = []\n",
    "\n",
    "    status.append(httpsURL(url))\n",
    "    status.append(httpURL(url))\n",
    "    status.append(count_question_mark_domain(url))\n",
    "    status.append(count_ampersand_domain(url))\n",
    "    status.append(count_asterisk_domain(url))\n",
    "    status.append(calculate_url_path_ratio(url))\n",
    "    status.append(length_path(url))\n",
    "\n",
    "    return status"
   ]
  },
  {
   "cell_type": "code",
   "execution_count": 55,
   "id": "13a5c119",
   "metadata": {},
   "outputs": [],
   "source": [
    "def get_prediction_from_url(test_url):\n",
    "    features_test = main(test_url)\n",
    "    features_test = np.array(features_test).reshape((1, -1))\n",
    "\n",
    "    pred = logreg.predict(features_test)\n",
    "    if int(pred[0]) == 0:\n",
    "        res=\"GOOD\"\n",
    "        return res\n",
    "\n",
    "    elif int(pred[0]) == 1:\n",
    "        res=\"PHISHING\"\n",
    "        return res"
   ]
  },
  {
   "cell_type": "code",
   "execution_count": 56,
   "id": "f8bde7c3",
   "metadata": {},
   "outputs": [
    {
     "name": "stdout",
     "output_type": "stream",
     "text": [
      "GOOD\n",
      "GOOD\n",
      "GOOD\n",
      "GOOD\n",
      "GOOD\n",
      "GOOD\n",
      "GOOD\n",
      "GOOD\n",
      "GOOD\n",
      "GOOD\n",
      "GOOD\n",
      "GOOD\n",
      "************************\n",
      "PHISHING\n",
      "PHISHING\n",
      "PHISHING\n",
      "PHISHING\n",
      "PHISHING\n",
      "PHISHING\n",
      "PHISHING\n",
      "GOOD\n",
      "GOOD\n",
      "PHISHING\n"
     ]
    },
    {
     "name": "stderr",
     "output_type": "stream",
     "text": [
      "C:\\Users\\hilya\\anaconda3\\lib\\site-packages\\sklearn\\base.py:420: UserWarning: X does not have valid feature names, but LogisticRegression was fitted with feature names\n",
      "  warnings.warn(\n",
      "C:\\Users\\hilya\\anaconda3\\lib\\site-packages\\sklearn\\base.py:420: UserWarning: X does not have valid feature names, but LogisticRegression was fitted with feature names\n",
      "  warnings.warn(\n",
      "C:\\Users\\hilya\\anaconda3\\lib\\site-packages\\sklearn\\base.py:420: UserWarning: X does not have valid feature names, but LogisticRegression was fitted with feature names\n",
      "  warnings.warn(\n",
      "C:\\Users\\hilya\\anaconda3\\lib\\site-packages\\sklearn\\base.py:420: UserWarning: X does not have valid feature names, but LogisticRegression was fitted with feature names\n",
      "  warnings.warn(\n",
      "C:\\Users\\hilya\\anaconda3\\lib\\site-packages\\sklearn\\base.py:420: UserWarning: X does not have valid feature names, but LogisticRegression was fitted with feature names\n",
      "  warnings.warn(\n",
      "C:\\Users\\hilya\\anaconda3\\lib\\site-packages\\sklearn\\base.py:420: UserWarning: X does not have valid feature names, but LogisticRegression was fitted with feature names\n",
      "  warnings.warn(\n",
      "C:\\Users\\hilya\\anaconda3\\lib\\site-packages\\sklearn\\base.py:420: UserWarning: X does not have valid feature names, but LogisticRegression was fitted with feature names\n",
      "  warnings.warn(\n",
      "C:\\Users\\hilya\\anaconda3\\lib\\site-packages\\sklearn\\base.py:420: UserWarning: X does not have valid feature names, but LogisticRegression was fitted with feature names\n",
      "  warnings.warn(\n",
      "C:\\Users\\hilya\\anaconda3\\lib\\site-packages\\sklearn\\base.py:420: UserWarning: X does not have valid feature names, but LogisticRegression was fitted with feature names\n",
      "  warnings.warn(\n",
      "C:\\Users\\hilya\\anaconda3\\lib\\site-packages\\sklearn\\base.py:420: UserWarning: X does not have valid feature names, but LogisticRegression was fitted with feature names\n",
      "  warnings.warn(\n",
      "C:\\Users\\hilya\\anaconda3\\lib\\site-packages\\sklearn\\base.py:420: UserWarning: X does not have valid feature names, but LogisticRegression was fitted with feature names\n",
      "  warnings.warn(\n",
      "C:\\Users\\hilya\\anaconda3\\lib\\site-packages\\sklearn\\base.py:420: UserWarning: X does not have valid feature names, but LogisticRegression was fitted with feature names\n",
      "  warnings.warn(\n",
      "C:\\Users\\hilya\\anaconda3\\lib\\site-packages\\sklearn\\base.py:420: UserWarning: X does not have valid feature names, but LogisticRegression was fitted with feature names\n",
      "  warnings.warn(\n",
      "C:\\Users\\hilya\\anaconda3\\lib\\site-packages\\sklearn\\base.py:420: UserWarning: X does not have valid feature names, but LogisticRegression was fitted with feature names\n",
      "  warnings.warn(\n",
      "C:\\Users\\hilya\\anaconda3\\lib\\site-packages\\sklearn\\base.py:420: UserWarning: X does not have valid feature names, but LogisticRegression was fitted with feature names\n",
      "  warnings.warn(\n",
      "C:\\Users\\hilya\\anaconda3\\lib\\site-packages\\sklearn\\base.py:420: UserWarning: X does not have valid feature names, but LogisticRegression was fitted with feature names\n",
      "  warnings.warn(\n",
      "C:\\Users\\hilya\\anaconda3\\lib\\site-packages\\sklearn\\base.py:420: UserWarning: X does not have valid feature names, but LogisticRegression was fitted with feature names\n",
      "  warnings.warn(\n",
      "C:\\Users\\hilya\\anaconda3\\lib\\site-packages\\sklearn\\base.py:420: UserWarning: X does not have valid feature names, but LogisticRegression was fitted with feature names\n",
      "  warnings.warn(\n",
      "C:\\Users\\hilya\\anaconda3\\lib\\site-packages\\sklearn\\base.py:420: UserWarning: X does not have valid feature names, but LogisticRegression was fitted with feature names\n",
      "  warnings.warn(\n",
      "C:\\Users\\hilya\\anaconda3\\lib\\site-packages\\sklearn\\base.py:420: UserWarning: X does not have valid feature names, but LogisticRegression was fitted with feature names\n",
      "  warnings.warn(\n",
      "C:\\Users\\hilya\\anaconda3\\lib\\site-packages\\sklearn\\base.py:420: UserWarning: X does not have valid feature names, but LogisticRegression was fitted with feature names\n",
      "  warnings.warn(\n",
      "C:\\Users\\hilya\\anaconda3\\lib\\site-packages\\sklearn\\base.py:420: UserWarning: X does not have valid feature names, but LogisticRegression was fitted with feature names\n",
      "  warnings.warn(\n"
     ]
    }
   ],
   "source": [
    "predict_good= ['https://www.petanikode.com/kategori/web',\n",
    "                'https://www.w3schools.com/js/',\n",
    "                'https://chat.openai.com/',\n",
    "                'https://www.dicoding.com/academies/',\n",
    "                'https://digitalservice.jabarprov.go.id/',\n",
    "                'https://www.domain.com/domains/new-domain-extensions?psafe_param=1&utm_campaign=dynamic_PPC&utm_source=googleads&utm_medium=genericsearch&channelid=P13C46098636S570N0B5578A30D4499E0000V111&gad_source=1&gclid=Cj0KCQjwn7mwBhCiARIsAGoxjaJGe0NjJ8pbQXsFojPkzgIftifxu6sIolAyJ47-aRJ3_0rqYzC-aEcaAutcEALw_wcB&gclsrc=aw.ds',\n",
    "                'https://www.malasngoding.com/belajar-html/',\n",
    "                'https://www.upi.edu/',\n",
    "                'https://www.djkn.kemenkeu.go.id/kpknl-purwakarta/baca-artikel/14851/Waspada-Kehajatan-Phising-Mengintai-Anda.html',\n",
    "                'https://www.detik.com/edu/perguruan-tinggi/d-7308557/ortu-maba-snbp-unsoed-kaget-soal-ukt-disinyalir-naik-100-dari-tahun-2023'\n",
    "                'https://meet.google.com/pgi-fcmy-xde/',\n",
    "               'https://www.detik.com/edu/detikpedia/d-5728385/11-contoh-teks-artikel-serta-langkah-langkah-penulisannya',\n",
    "               'https://shopee.co.id/CELANA-PANJANG-BAHAN-DASAR-BAHAN-KAIN-BAHAN-FORMAL-PRIA-i.1052386097.23756536881?publish_id=&sp_atk=b871503b-c1a4-4763-bfc3-bb2196ba4aa7&xptdk=b871503b-c1a4-4763-bfc3-bb2196ba4aa7'\n",
    "]\n",
    "\n",
    "predict_bad = ['https://bit.ly/3Bspxxx',\n",
    "                'https://facebook.login.com',\n",
    "                'http://store.apple.com.blogspot.com.',\n",
    "                'https://prakerja.vip',\n",
    "                'http://www.adidas-shoes.club',\n",
    "                'http://kuota-gratis.cf',\n",
    "                'https://forms.aweber.com/form/11/995940911.htm',\n",
    "               'https://bantuan-1.b-cdn.net/?v=cekbansos/',\n",
    "               'https://einfowhatee.xyz/i/Nationalday/?show=1\"',\n",
    "               'https://sew.arboretopark.com/w3dd2/app/login.php.'\n",
    "]\n",
    "for url in predict_good:\n",
    "  print(get_prediction_from_url(url))\n",
    "print(\"************************\")\n",
    "for url in predict_bad:\n",
    "  print(get_prediction_from_url(url))"
   ]
  },
  {
   "cell_type": "code",
   "execution_count": null,
   "id": "4901aefa",
   "metadata": {},
   "outputs": [],
   "source": []
  }
 ],
 "metadata": {
  "kernelspec": {
   "display_name": "proyek-akhir",
   "language": "python",
   "name": "proyek-akhir"
  },
  "language_info": {
   "codemirror_mode": {
    "name": "ipython",
    "version": 3
   },
   "file_extension": ".py",
   "mimetype": "text/x-python",
   "name": "python",
   "nbconvert_exporter": "python",
   "pygments_lexer": "ipython3",
   "version": "3.10.9"
  }
 },
 "nbformat": 4,
 "nbformat_minor": 5
}
